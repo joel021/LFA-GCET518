{
 "cells": [
  {
   "cell_type": "markdown",
   "id": "d1d9feb6",
   "metadata": {},
   "source": [
    "### Autômato Finito Determinístico (AFD)\n",
    "\n",
    "**Aluno:** Joel Machado Pires"
   ]
  },
  {
   "cell_type": "markdown",
   "id": "0f64faf3",
   "metadata": {},
   "source": [
    "<h3> 1.Modelagem do problema </h3>\n",
    "<p>\n",
    "Quers-e determinar um algorimo que torne possível o acesso dos estados a partir de um outro estado, dado uma entrada.\n",
    "    Tome <i>State</i> como o modelo que define um estado por <i>nome</i>, <i>dest</i> e <i>is_final_state</i>. \n",
    "O atributo <i>dest</i> é uma estrutura de dados do tipo dicionário que contém uma série de <<i>palavra</i>,<i>estado,</i>>. Assim, cada estado pode fornecer o seu próximo estado, para um caractere. Com isso, considere *AFD* como o modelo que contém o algoritmo de reconhecimento de uma sequência de palavras. Dados <i>E</i>, <i>∑</i>, <i>F</i>, <i>I</i>, ao receber uma palavra, percorrer cada caractere e obter o próximo estado a partir do estado atual da iteração, ao final, obter o valor <i>is_final_state</i> do último estado recebido. \n",
    "</p>\n",
    "\n",
    "<h3> 2. Estruturas de dados utilizadas </h3>\n",
    "<p>\n",
    "    Foram utilizadas:\n",
    "    - Dict : dicionário Python que é uma estrutura de <i>hash</i>\n",
    "    \n",
    "    - List : lista Python\n",
    "    \n",
    "    - AFD : Um modelo de um Autômato Finito Determinístico (AFD)\n",
    "    \n",
    "    - State : Um modelo de estado para um Autômato Finito Determinístico\n",
    "</p>\n",
    "\n",
    "<h3> Complexidade de algoritmo </h3>\n",
    "<p> O algoritmo é iterativo e percorre cada caractere de cada palavra recebida, de fato, a complexidade é <i>O(w)</i>, onde <i>w</i> é o tamanho da palavra </p>"
   ]
  },
  {
   "cell_type": "code",
   "execution_count": 5,
   "id": "fb10ca4e",
   "metadata": {},
   "outputs": [],
   "source": [
    "class AFD():\n",
    "    \n",
    "    class State():\n",
    "        \n",
    "        def __init__(self, name):\n",
    "            \"\"\"\n",
    "            @name: (String) key name of the state\n",
    "            \"\"\"\n",
    "            self.name = name #\n",
    "            self.dest = dict() #(Dict) \"destiny\" is the next state when receiving a valid characters.\n",
    "            self.is_final_state = \"N\"\n",
    "            \n",
    "    def __init__(self, ):\n",
    "        self.model = {\n",
    "            0: self._get_E, #define states list\n",
    "            1: self._get_sigma,\n",
    "            2: self._get_n\n",
    "        }\n",
    "    \n",
    "    def _get_E(self, in_i):\n",
    "        self.E = str(in_i).split(\" \")\n",
    "        \n",
    "    def _construct_states(self):\n",
    "        self.states = dict()\n",
    "        \n",
    "        for e in self.E:\n",
    "            self.states[e] = self.State(e)\n",
    "        \n",
    "        #One difference to definition here. This state has not transaction\n",
    "        self.states[\"error\"] = self.State(\"error\")\n",
    "        \n",
    "    def _get_sigma(self, in_i):\n",
    "        self.sigma = str(in_i).split(\" \")\n",
    "    \n",
    "    def _get_n(self, in_i):\n",
    "        self.n = int(in_i)\n",
    "        \n",
    "    def _ext_trans_func(self, words):\n",
    "        \"\"\"\n",
    "        extended transaction function (delta)\n",
    "        @characters: (List) list of characters to be processed\n",
    "        \"\"\"\n",
    "        for word in words:\n",
    "            state = self.states[self.init_state_k]\n",
    "            \n",
    "            for c in list(word):\n",
    "                state = state.dest.get(c, self.states[\"error\"]) #apply the the delta function\n",
    "            \n",
    "            print(state.is_final_state)\n",
    "            \n",
    "    def init(self):        \n",
    "        \n",
    "        #get continuos inputs to first configuration\n",
    "        for i in range(3):\n",
    "            in_i = input()\n",
    "            #configuration steps\n",
    "            self.model[i](in_i)\n",
    "        \n",
    "        self._construct_states()\n",
    "        \n",
    "        #defining states transations: delta function\n",
    "        for i in range(self.n):\n",
    "            t = str(input()).split(\" \") #has shape like: \"o c d\" -> (o, c, d) -> (orign state, character, destination state)\n",
    "            \n",
    "            state_i = self.states.get(t[0]) #get reference of the state named in t[0]\n",
    "            state_i.dest[t[1]] = self.states.get(t[2], self.states[\"error\"]) #define destination of this state when receiving t[1] value\n",
    "            \n",
    "        #get initial state key\n",
    "        self.init_state_k = str(input())\n",
    "        \n",
    "        #get and set final states\n",
    "        for e in str(input()).split(\" \"):\n",
    "            self.states[e].is_final_state = \"S\"\n",
    "        \n",
    "        #recognize the words\n",
    "        self._ext_trans_func(str(input()).split(\" \"))"
   ]
  },
  {
   "cell_type": "code",
   "execution_count": 6,
   "id": "cf840459",
   "metadata": {},
   "outputs": [
    {
     "name": "stdout",
     "output_type": "stream",
     "text": [
      "0 1\n",
      "a b\n",
      "3\n"
     ]
    },
    {
     "ename": "TypeError",
     "evalue": "'int' object is not iterable",
     "output_type": "error",
     "traceback": [
      "\u001b[1;31m---------------------------------------------------------------------------\u001b[0m",
      "\u001b[1;31mTypeError\u001b[0m                                 Traceback (most recent call last)",
      "\u001b[1;32m~\\AppData\\Local\\Temp/ipykernel_12948/3362024964.py\u001b[0m in \u001b[0;36m<module>\u001b[1;34m\u001b[0m\n\u001b[0;32m      1\u001b[0m \u001b[0madf\u001b[0m \u001b[1;33m=\u001b[0m \u001b[0mAFD\u001b[0m\u001b[1;33m(\u001b[0m\u001b[1;33m)\u001b[0m\u001b[1;33m\u001b[0m\u001b[0m\n\u001b[0;32m      2\u001b[0m \u001b[1;33m\u001b[0m\u001b[0m\n\u001b[1;32m----> 3\u001b[1;33m \u001b[0madf\u001b[0m\u001b[1;33m.\u001b[0m\u001b[0minit\u001b[0m\u001b[1;33m(\u001b[0m\u001b[1;33m)\u001b[0m\u001b[1;33m\u001b[0m\u001b[0m\n\u001b[0m",
      "\u001b[1;32m~\\AppData\\Local\\Temp/ipykernel_12948/1365596584.py\u001b[0m in \u001b[0;36minit\u001b[1;34m(self)\u001b[0m\n\u001b[0;32m     60\u001b[0m \u001b[1;33m\u001b[0m\u001b[0m\n\u001b[0;32m     61\u001b[0m         \u001b[1;31m#defining states transations: delta function\u001b[0m\u001b[1;33m\u001b[0m\u001b[1;33m\u001b[0m\u001b[0m\n\u001b[1;32m---> 62\u001b[1;33m         \u001b[1;32mfor\u001b[0m \u001b[0mi\u001b[0m \u001b[1;32min\u001b[0m \u001b[0mself\u001b[0m\u001b[1;33m.\u001b[0m\u001b[0mn\u001b[0m\u001b[1;33m:\u001b[0m\u001b[1;33m\u001b[0m\u001b[0m\n\u001b[0m\u001b[0;32m     63\u001b[0m             \u001b[0mt\u001b[0m \u001b[1;33m=\u001b[0m \u001b[0mstr\u001b[0m\u001b[1;33m(\u001b[0m\u001b[0minput\u001b[0m\u001b[1;33m(\u001b[0m\u001b[1;33m)\u001b[0m\u001b[1;33m)\u001b[0m\u001b[1;33m.\u001b[0m\u001b[0msplit\u001b[0m\u001b[1;33m(\u001b[0m\u001b[1;34m\" \"\u001b[0m\u001b[1;33m)\u001b[0m \u001b[1;31m#has shape like: \"o c d\" -> (o, c, d) -> (orign state, character, destination state)\u001b[0m\u001b[1;33m\u001b[0m\u001b[0m\n\u001b[0;32m     64\u001b[0m \u001b[1;33m\u001b[0m\u001b[0m\n",
      "\u001b[1;31mTypeError\u001b[0m: 'int' object is not iterable"
     ]
    }
   ],
   "source": [
    "adf = AFD()\n",
    "\n",
    "adf.init()"
   ]
  },
  {
   "cell_type": "code",
   "execution_count": 4,
   "id": "b74e08b7",
   "metadata": {},
   "outputs": [
    {
     "data": {
      "text/plain": [
       "['a']"
      ]
     },
     "execution_count": 4,
     "metadata": {},
     "output_type": "execute_result"
    }
   ],
   "source": [
    "list(\"a\")"
   ]
  },
  {
   "cell_type": "code",
   "execution_count": null,
   "id": "31afa180",
   "metadata": {},
   "outputs": [],
   "source": []
  }
 ],
 "metadata": {
  "kernelspec": {
   "display_name": "Python 3 (ipykernel)",
   "language": "python",
   "name": "python3"
  },
  "language_info": {
   "codemirror_mode": {
    "name": "ipython",
    "version": 3
   },
   "file_extension": ".py",
   "mimetype": "text/x-python",
   "name": "python",
   "nbconvert_exporter": "python",
   "pygments_lexer": "ipython3",
   "version": "3.7.0"
  }
 },
 "nbformat": 4,
 "nbformat_minor": 5
}
