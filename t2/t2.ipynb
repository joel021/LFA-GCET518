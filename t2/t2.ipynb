{
 "cells": [
  {
   "cell_type": "markdown",
   "id": "d1d9feb6",
   "metadata": {
    "id": "d1d9feb6"
   },
   "source": [
    "### Autômato Finito Não Determinístico (AFND)\n",
    "\n",
    "**Aluno:** Joel Machado Pires"
   ]
  },
  {
   "cell_type": "markdown",
   "id": "0f64faf3",
   "metadata": {
    "id": "0f64faf3"
   },
   "source": [
    "<a href=\"2.pdf\"><b>Problema T2:</a>\n",
    "<h3> 1.Modelagem da Solução</h3>\n",
    "\n",
    "<p>Sabendo que para toda Linguagem Formal Não Determinística (AFND) existe uma Linguagem Formal Determinística (AFD) equivalente, basta escrever o algoritmo que obtém um AFD equivalente para qualquer AFND recebido. Esse algoritmo recebe as informações que descrevem o AFND, como um grafo, e converte para um AFD. Daí, aplica-se a função de transição <i>delta</i> desse ADF para toda palavra recebida. </p>"
   ]
  },
  {
   "cell_type": "code",
   "execution_count": 3,
   "id": "fb10ca4e",
   "metadata": {
    "id": "fb10ca4e"
   },
   "outputs": [],
   "source": [
    "import numpy as np\n",
    "\n",
    "class AFND():\n",
    "\n",
    "    class State():\n",
    "        \n",
    "        def __init__(self, name):\n",
    "            \"\"\"\n",
    "            @name: (String) key name of the state\n",
    "            \"\"\"\n",
    "            self.name = name #\n",
    "            self.dest = dict() #(Dict) \"destiny\" is the next states when receiving a valid character.\n",
    "            self.is_final_state = \"N\"\n",
    "            self.processed = False\n",
    "            self.eq_states = []\n",
    "            \n",
    "    def __init__(self ):\n",
    "        self.afd_states = None\n",
    "        self.setup()\n",
    "        \n",
    "    def _construct_states(self):\n",
    "        states = dict()\n",
    "        \n",
    "        for e in self.E:\n",
    "            states[e] = self.State(e) #create a state instance to each state\n",
    "        return states\n",
    "    \n",
    "    def _ext_trans_func(self, word):\n",
    "        \"\"\"\n",
    "        extended transaction function (delta)\n",
    "        @characters: (List) list of characters to be processed\n",
    "        \"\"\"\n",
    "        state = self.afd_states[self.init_state_k]\n",
    "\n",
    "        for c in list(word):\n",
    "            k = state.dest.get(c, self.afd_states[\"error\"]) #apply the the delta function\n",
    "            state = self.afd_states[k]\n",
    "            \n",
    "        print(state.is_final_state)\n",
    "    \n",
    "    def _set_states_trctions(self, afd_states):\n",
    "        \n",
    "        #defining states transations: delta function\n",
    "        for i in range(self.n):\n",
    "            t = str(input()).split(\" \") #has shape like: \"o c d\" -> (o, c, d) -> (orign state, character, destination state)\n",
    "            \n",
    "            state_i = afd_states.get(t[0]) #get reference of the state named in t[0]\n",
    "            \n",
    "            states = []\n",
    "            states.extend(state_i.dest.get(t[1], [])) #get all possible defined transaction states to this entry\n",
    "            states.append(afd_states.get(t[2],[])) #insert a destination of this state when receiving t[1] value\n",
    "            \n",
    "            state_i.dest[t[1]] = states #Override, if already exists. Create, if not exist.\n",
    "    \n",
    "    def get_eq_key_isf(self, states):\n",
    "        \"\"\"\n",
    "        Get equivalent state to these states. \n",
    "        Ex.: Receiving states = {e1,e2,e1,e2,e3} => k = \"{e1,e2,e3}\"\n",
    "        \"\"\"\n",
    "        k = set()\n",
    "        is_final_state = dict()\n",
    "        for s in states:\n",
    "            k.add(s.name)\n",
    "            is_final_state[s.is_final_state] = s.is_final_state\n",
    "        k = np.sort(list(k))\n",
    "        \n",
    "        return str(k), is_final_state.get(\"S\", \"N\")\n",
    "    \n",
    "    def _get_AFD(self, afnd_states, init_k):\n",
    "        states = dict() #AFD states\n",
    "        states[\"error\"] = self.State(\"error\")\n",
    "        \n",
    "        self.init_state_k = str([init_k])\n",
    "        states[self.init_state_k] = self.State(self.init_state_k)\n",
    "        states[self.init_state_k].processed = True\n",
    "        k_d = [] #to store the remaining state wich must be processed\n",
    "        \n",
    "        #Create initial state to the AFD\n",
    "        for w in self.sigma:\n",
    "            \n",
    "            d_states = afnd_states[init_k].dest.get(w, []) #afnd_states are needed only here to get the first state\n",
    "            #get key to this state\n",
    "            k, is_final_state = self.get_eq_key_isf(d_states) #all destinate states of the first state\n",
    "            k_d.append(k)\n",
    "            \n",
    "            states[k] = states.get(k, self.State(k)) #Create or get the equivalent state\n",
    "            states[k].is_final_state = is_final_state #if any state is final, this new state is final too.\n",
    "            states[k].eq_states = d_states #equivalent states of this state\n",
    "            \n",
    "            states[self.init_state_k].dest[w] = k #set the key destination of this state when receive w\n",
    "        \n",
    "        while bool(k_d): #while exists states to be processed\n",
    "            state = states[k_d.pop()]\n",
    "\n",
    "            if not state.processed:#logic to decide if process or not\n",
    "                self._process(state, k_d, states) \n",
    "            \n",
    "        self.afd_states = states\n",
    "        #result: an AFD with states defined\n",
    "            \n",
    "    def _process(self, state, k_d, states):\n",
    "        \"\"\"\n",
    "        Set all destination states of the state \"state\" for each w in sigma.\n",
    "        Create the new equivalent state if not exists\n",
    "        Set the equivalente state to be the destination\n",
    "        \"\"\"\n",
    "        for w in self.sigma: \n",
    "            \n",
    "            d_states = [] #destination states\n",
    "            for e in state.eq_states:\n",
    "                d_states.extend(e.dest.get(w, [])) #this state is composed by one or more states wich each has their own destination states\n",
    "                \n",
    "            k, is_final_state = self.get_eq_key_isf(d_states)\n",
    "\n",
    "            states[k] = states.get(k, self.State(k)) #Get or create the state hashed with k key. The states where has it as destination do not will lost it.\n",
    "            states[k].is_final_state = is_final_state\n",
    "            states[k].eq_states = d_states\n",
    "            \n",
    "            state.dest[w] = k #store the key of this state as destination state key\n",
    "            k_d.append(k) #insert the key of this \"new\" state to be processed\n",
    "        \n",
    "        state.eq_states = [] #clear this information of the processed state becouse is not necessary no more\n",
    "        state.processed = True\n",
    "        \n",
    "    def setup(self):\n",
    "        \"\"\"\n",
    "        Configuration steps\n",
    "        \"\"\"\n",
    "        #get continuos inputs to first configuration\n",
    "        self.E = str(input()).split(\" \") #define states list\n",
    "        self.sigma = str(input()).split(\" \")\n",
    "        self.n = int(input())\n",
    "\n",
    "        afnd_states = self._construct_states()\n",
    "        \n",
    "        self._set_states_trctions(afnd_states)\n",
    "        \n",
    "        #get initial state key\n",
    "        init_k = str(input())\n",
    "        \n",
    "        #get and set final states\n",
    "        for e in str(input()).split(\" \"):\n",
    "            afnd_states[e].is_final_state = \"S\"\n",
    "        \n",
    "        #get the AFD equivalent\n",
    "        self._get_AFD(afnd_states, init_k)\n",
    "        \n",
    "        \"\"\"\n",
    "        End Configuration Steps\n",
    "        \"\"\"\n",
    "        \n",
    "    def recognize_words(self):\n",
    "        #recognize the words. The AFD has not transactions on lambda\n",
    "        for word in str(input()).replace(\" * \", \"\").replace(\"*\", \"\").split(\" \"):\n",
    "            self._ext_trans_func(word)"
   ]
  },
  {
   "cell_type": "code",
   "execution_count": null,
   "id": "eeae18b2",
   "metadata": {},
   "outputs": [],
   "source": [
    "e_i e_0 e_010 e_2i2 e_1 e_011 e_r\n",
    "0 1\n",
    "12\n",
    "e_i 0 e_i\n",
    "e_i 1 e_i\n",
    "e_i 0 e_0\n",
    "e_i 1 e_1\n",
    "e_0 0 e_010\n",
    "e_0 1 e_010\n",
    "e_1 0 e_011\n",
    "e_1 1 e_011\n",
    "e_010 0 e_r\n",
    "e_010 1 e_2i2\n",
    "e_011 0 e_2i2"
   ]
  },
  {
   "cell_type": "code",
   "execution_count": 7,
   "id": "e331680e",
   "metadata": {
    "id": "e331680e",
    "outputId": "e25dd1f2-e54d-4c1d-c01a-695fc1580100",
    "scrolled": true
   },
   "outputs": [
    {
     "name": "stdout",
     "output_type": "stream",
     "text": [
      "e_i e_0 e_010 e_2i2 e_1 e_011 e_r\n",
      "0 1\n",
      "12\n",
      "e_i 0 e_i\n",
      "e_i 1 e_i\n",
      "e_i 0 e_0\n",
      "e_i 1 e_1\n",
      "e_0 0 e_010\n",
      "e_0 1 e_010\n",
      "e_1 0 e_011\n",
      "e_1 1 e_011\n",
      "e_010 0 e_r\n",
      "e_010 1 e_2i2\n",
      "e_011 0 e_2i2\n",
      "e_011 1 e_r\n",
      "e_i\n",
      "e_2i2\n",
      "0101 00\n",
      "N\n",
      "N\n"
     ]
    }
   ],
   "source": [
    "afnd = AFND()\n",
    "afnd.init()"
   ]
  },
  {
   "cell_type": "code",
   "execution_count": 16,
   "id": "2043a0e0",
   "metadata": {
    "id": "2043a0e0"
   },
   "outputs": [
    {
     "data": {
      "text/plain": [
       "{'0': \"['e_0' 'e_010' 'e_i']\", '1': \"['e_010' 'e_1' 'e_i']\"}"
      ]
     },
     "execution_count": 16,
     "metadata": {},
     "output_type": "execute_result"
    }
   ],
   "source": [
    "afnd.afd_states[\"['e_0' 'e_i']\"].dest"
   ]
  },
  {
   "cell_type": "code",
   "execution_count": null,
   "id": "11cb2f6e",
   "metadata": {},
   "outputs": [],
   "source": []
  }
 ],
 "metadata": {
  "colab": {
   "collapsed_sections": [],
   "name": "t2.ipynb",
   "provenance": []
  },
  "kernelspec": {
   "display_name": "Python 3 (ipykernel)",
   "language": "python",
   "name": "python3"
  },
  "language_info": {
   "codemirror_mode": {
    "name": "ipython",
    "version": 3
   },
   "file_extension": ".py",
   "mimetype": "text/x-python",
   "name": "python",
   "nbconvert_exporter": "python",
   "pygments_lexer": "ipython3",
   "version": "3.7.0"
  }
 },
 "nbformat": 4,
 "nbformat_minor": 5
}
